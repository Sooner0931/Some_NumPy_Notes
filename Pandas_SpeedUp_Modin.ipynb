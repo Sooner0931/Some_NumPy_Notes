{
 "cells": [
  {
   "cell_type": "code",
   "execution_count": 1,
   "metadata": {},
   "outputs": [],
   "source": [
    "import time"
   ]
  },
  {
   "cell_type": "markdown",
   "metadata": {},
   "source": [
    "#### The dataset using here is a 1.2GB .csv file for CS:GO from kaggle:\n",
    "@ https://www.kaggle.com/skihikingkevin/csgo-matchmaking-damage"
   ]
  },
  {
   "cell_type": "code",
   "execution_count": null,
   "metadata": {},
   "outputs": [],
   "source": []
  },
  {
   "cell_type": "code",
   "execution_count": 6,
   "metadata": {},
   "outputs": [
    {
     "name": "stdout",
     "output_type": "stream",
     "text": [
      "Standard Pandas has been imported!\n",
      "Standard Pandas loading time is: 31.718417167663574 seconds.\n",
      "\n",
      "\n"
     ]
    }
   ],
   "source": [
    "import pandas as pd\n",
    "print('Standard Pandas has been imported!')\n",
    "\n",
    "start_time = time.time()\n",
    "df = pd.read_csv('esea_master_dmg_demos.part1.csv')\n",
    "end_time = time.time()\n",
    "print(f\"Standard Pandas loading time is: {end_time - start_time} seconds.\")\n",
    "print('\\n')"
   ]
  },
  {
   "cell_type": "code",
   "execution_count": null,
   "metadata": {},
   "outputs": [],
   "source": []
  },
  {
   "cell_type": "code",
   "execution_count": 7,
   "metadata": {},
   "outputs": [
    {
     "name": "stdout",
     "output_type": "stream",
     "text": [
      "Modin Pandas has been imported properly!\n",
      "Modin Pandas loading time is: 9.547548532485962 seconds.\n",
      "\n",
      "\n"
     ]
    }
   ],
   "source": [
    "import modin.pandas as mpd\n",
    "print('Modin Pandas has been imported properly!')\n",
    "\n",
    "start_time_mpd = time.time()\n",
    "df_mpd = mpd.read_csv('esea_master_dmg_demos.part1.csv')\n",
    "end_time_mpd = time.time()\n",
    "print(f\"Modin Pandas loading time is: {end_time_mpd - start_time_mpd} seconds.\")\n",
    "print('\\n')"
   ]
  },
  {
   "cell_type": "code",
   "execution_count": null,
   "metadata": {},
   "outputs": [],
   "source": []
  },
  {
   "cell_type": "markdown",
   "metadata": {},
   "source": [
    "#### Operations in which Modin was significantly faster, usually reading data and finding values. Other operations, such as performing statistical calculations, standard Pandas still prevail."
   ]
  },
  {
   "cell_type": "raw",
   "metadata": {},
   "source": [
    "Operation\tPandas Time\tModin Time\tSpeedup\n",
    "pd.read_csv('esea_master_dmg_demos.part1.csv')\t8.38\t3.22\t2.6\n",
    "pd.concat([df for _ in range(5)])\t3.56\t0.041\t86.83\n",
    "df.groupby(by='wp_type')\t0.00029\t0.059\t0.0049\n",
    "df.fillna(value=0)\t1.8\t0.21\t8.57\n",
    "df.dropna()\t1.24\t1.71\t0.73\n",
    "df.count()\t1.09\t0.046\t23.70\n",
    "df.drop_duplicates()\t7.68\t13.38\t0.57\n",
    "df.describe()\t1.30\t4.69\t0.28\n",
    "df['seconds'].max()\t0.015\t0.26\t0.058\n",
    "df.isnull()\t0.998\t0.012\t83.17"
   ]
  }
 ],
 "metadata": {
  "kernelspec": {
   "display_name": "Python 3",
   "language": "python",
   "name": "python3"
  },
  "language_info": {
   "codemirror_mode": {
    "name": "ipython",
    "version": 3
   },
   "file_extension": ".py",
   "mimetype": "text/x-python",
   "name": "python",
   "nbconvert_exporter": "python",
   "pygments_lexer": "ipython3",
   "version": "3.7.1"
  }
 },
 "nbformat": 4,
 "nbformat_minor": 4
}
