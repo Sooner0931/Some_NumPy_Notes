{
 "cells": [
  {
   "cell_type": "code",
   "execution_count": 2,
   "metadata": {},
   "outputs": [],
   "source": [
    "import time"
   ]
  },
  {
   "cell_type": "markdown",
   "metadata": {},
   "source": [
    "#### The dataset using here is a 1.2GB .csv file for CS:GO from kaggle:\n",
    "@ https://www.kaggle.com/skihikingkevin/csgo-matchmaking-damage"
   ]
  },
  {
   "cell_type": "markdown",
   "metadata": {},
   "source": [
    "#### The test speed, of course, varies using different machines with different CPU core numbers, followed is using my own personal PC "
   ]
  },
  {
   "cell_type": "code",
   "execution_count": 3,
   "metadata": {},
   "outputs": [
    {
     "name": "stdout",
     "output_type": "stream",
     "text": [
      "Standard Pandas has been imported!\n",
      "Standard Pandas loading time is: 28.42582893371582 seconds.\n",
      "\n",
      "\n"
     ]
    }
   ],
   "source": [
    "import pandas as pd\n",
    "print('Standard Pandas has been imported!')\n",
    "\n",
    "start_time = time.time()\n",
    "df = pd.read_csv('esea_master_dmg_demos.part1.csv')\n",
    "end_time = time.time()\n",
    "print(f\"Standard Pandas loading time is: {end_time - start_time} seconds.\")\n",
    "print('\\n')"
   ]
  },
  {
   "cell_type": "code",
   "execution_count": null,
   "metadata": {},
   "outputs": [],
   "source": []
  },
  {
   "cell_type": "code",
   "execution_count": 7,
   "metadata": {},
   "outputs": [
    {
     "name": "stdout",
     "output_type": "stream",
     "text": [
      "Modin Pandas has been imported properly!\n",
      "Modin Pandas loading time is: 9.547548532485962 seconds.\n",
      "\n",
      "\n"
     ]
    }
   ],
   "source": [
    "import modin.pandas as mpd\n",
    "print('Modin Pandas has been imported properly!')\n",
    "\n",
    "start_time_mpd = time.time()\n",
    "df_mpd = mpd.read_csv('esea_master_dmg_demos.part1.csv')\n",
    "end_time_mpd = time.time()\n",
    "print(f\"Modin Pandas loading time is: {end_time_mpd - start_time_mpd} seconds.\")\n",
    "print('\\n')"
   ]
  },
  {
   "cell_type": "code",
   "execution_count": null,
   "metadata": {},
   "outputs": [],
   "source": []
  },
  {
   "cell_type": "markdown",
   "metadata": {},
   "source": [
    "#### Operations in which Modin was significantly faster, usually reading data and finding values. Other operations, such as performing statistical calculations, standard Pandas still prevail."
   ]
  },
  {
   "cell_type": "code",
   "execution_count": 16,
   "metadata": {},
   "outputs": [
    {
     "data": {
      "text/html": [
       "<div>\n",
       "<style scoped>\n",
       "    .dataframe tbody tr th:only-of-type {\n",
       "        vertical-align: middle;\n",
       "    }\n",
       "\n",
       "    .dataframe tbody tr th {\n",
       "        vertical-align: top;\n",
       "    }\n",
       "\n",
       "    .dataframe thead th {\n",
       "        text-align: right;\n",
       "    }\n",
       "</style>\n",
       "<table border=\"1\" class=\"dataframe\">\n",
       "  <thead>\n",
       "    <tr style=\"text-align: right;\">\n",
       "      <th></th>\n",
       "      <th>Pandas Time</th>\n",
       "      <th>Modin Time</th>\n",
       "      <th>Speedup</th>\n",
       "    </tr>\n",
       "  </thead>\n",
       "  <tbody>\n",
       "    <tr>\n",
       "      <th>pd.read_csv</th>\n",
       "      <td>8.38000</td>\n",
       "      <td>3.220</td>\n",
       "      <td>2.6000</td>\n",
       "    </tr>\n",
       "    <tr>\n",
       "      <th>pd.concat([df for _ in range(5)])</th>\n",
       "      <td>3.56000</td>\n",
       "      <td>0.041</td>\n",
       "      <td>86.8300</td>\n",
       "    </tr>\n",
       "    <tr>\n",
       "      <th>df.groupby()</th>\n",
       "      <td>0.00029</td>\n",
       "      <td>0.059</td>\n",
       "      <td>0.0049</td>\n",
       "    </tr>\n",
       "    <tr>\n",
       "      <th>df.fillna(value=0)</th>\n",
       "      <td>1.80000</td>\n",
       "      <td>0.210</td>\n",
       "      <td>8.5700</td>\n",
       "    </tr>\n",
       "    <tr>\n",
       "      <th>df.dropna()</th>\n",
       "      <td>1.24000</td>\n",
       "      <td>1.710</td>\n",
       "      <td>0.7300</td>\n",
       "    </tr>\n",
       "    <tr>\n",
       "      <th>df.count()</th>\n",
       "      <td>1.09000</td>\n",
       "      <td>0.046</td>\n",
       "      <td>23.7000</td>\n",
       "    </tr>\n",
       "    <tr>\n",
       "      <th>df.drop_duplicates()</th>\n",
       "      <td>7.68000</td>\n",
       "      <td>13.380</td>\n",
       "      <td>0.5700</td>\n",
       "    </tr>\n",
       "    <tr>\n",
       "      <th>df.describe()</th>\n",
       "      <td>1.30000</td>\n",
       "      <td>4.690</td>\n",
       "      <td>0.2800</td>\n",
       "    </tr>\n",
       "    <tr>\n",
       "      <th>df[].max()</th>\n",
       "      <td>0.01500</td>\n",
       "      <td>0.260</td>\n",
       "      <td>0.0580</td>\n",
       "    </tr>\n",
       "    <tr>\n",
       "      <th>df.isnull()</th>\n",
       "      <td>0.99800</td>\n",
       "      <td>0.012</td>\n",
       "      <td>83.1700</td>\n",
       "    </tr>\n",
       "  </tbody>\n",
       "</table>\n",
       "</div>"
      ],
      "text/plain": [
       "                                   Pandas Time  Modin Time  Speedup\n",
       "pd.read_csv                            8.38000       3.220   2.6000\n",
       "pd.concat([df for _ in range(5)])      3.56000       0.041  86.8300\n",
       "df.groupby()                           0.00029       0.059   0.0049\n",
       "df.fillna(value=0)                     1.80000       0.210   8.5700\n",
       "df.dropna()                            1.24000       1.710   0.7300\n",
       "df.count()                             1.09000       0.046  23.7000\n",
       "df.drop_duplicates()                   7.68000      13.380   0.5700\n",
       "df.describe()                          1.30000       4.690   0.2800\n",
       "df[].max()                             0.01500       0.260   0.0580\n",
       "df.isnull()                            0.99800       0.012  83.1700"
      ]
     },
     "execution_count": 16,
     "metadata": {},
     "output_type": "execute_result"
    }
   ],
   "source": [
    "df"
   ]
  }
 ],
 "metadata": {
  "kernelspec": {
   "display_name": "Python 3",
   "language": "python",
   "name": "python3"
  },
  "language_info": {
   "codemirror_mode": {
    "name": "ipython",
    "version": 3
   },
   "file_extension": ".py",
   "mimetype": "text/x-python",
   "name": "python",
   "nbconvert_exporter": "python",
   "pygments_lexer": "ipython3",
   "version": "3.7.1"
  }
 },
 "nbformat": 4,
 "nbformat_minor": 4
}
